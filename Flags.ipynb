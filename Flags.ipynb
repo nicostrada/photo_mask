{
 "cells": [
  {
   "cell_type": "markdown",
   "metadata": {},
   "source": [
    "# Flags\n",
    "This notebook aims to select the objects from a given catalog inside a given mask\n",
    "\n",
    "exout = 0 Outside the mask\n",
    "\n",
    "exout = 1 Inside the mask"
   ]
  },
  {
   "cell_type": "code",
   "execution_count": 2,
   "metadata": {},
   "outputs": [],
   "source": [
    "#import pyregion\n",
    "import time\n",
    "import numpy as np\n",
    "from   astropy    import wcs\n",
    "from   astropy.io import fits\n",
    "from   matplotlib import rcParams\n",
    "from   matplotlib.path import Path\n",
    "from   matplotlib      import pyplot as plt\n",
    "import matplotlib.lines   as lines\n",
    "import matplotlib.patches as patches"
   ]
  },
  {
   "cell_type": "markdown",
   "metadata": {},
   "source": [
    "# Loading data"
   ]
  },
  {
   "cell_type": "code",
   "execution_count": 3,
   "metadata": {},
   "outputs": [],
   "source": [
    "bands = ['u','g','r','i','j','k','y','u_2','u_2h','g_2','g_2h','rh','i_2','i_2h','j_2','j_2h','k_2','k_2h','y_2','y_2h']\n",
    "#bands = ['u_2']\n",
    "paths = {\n",
    "    'catalog_u':'/users/nestrada/Documents/Game/band_catalogues/M0416_uband64_gal.cat',\n",
    "    'catalog_g':'/users/nestrada/Documents/Game/band_catalogues/M0416_gband64_gal.cat',\n",
    "    'catalog_r':'/users/nestrada/Documents/Game/band_catalogues/M0416_rband64_gal.cat',\n",
    "    'catalog_i':'/users/nestrada/Documents/Game/band_catalogues/M0416_iband64_gal.cat',\n",
    "    'catalog_y':'/users/nestrada/Documents/Game/band_catalogues/M0416_yband64_gal.cat',\n",
    "    'catalog_j':'/users/nestrada/Documents/Game/band_catalogues/M0416_jband64_gal.cat',\n",
    "    'catalog_k':'/users/nestrada/Documents/Game/band_catalogues/M0416_kband64_gal.cat',\n",
    "    'catalog_rh':'/users/nestrada/Documents/Game/band_catalogues/M0416_rhband64_gal.cat',\n",
    "    'catalog_u_2' :'/users/nestrada/Documents/Game/band_catalogues/M0416_u_2band64_gal.cat',\n",
    "    'catalog_u_2h':'/users/nestrada/Documents/Game/band_catalogues/M0416_u_2hband64_gal.cat',\n",
    "    'catalog_g_2' :'/users/nestrada/Documents/Game/band_catalogues/M0416_g_2band64_gal.cat',\n",
    "    'catalog_g_2h':'/users/nestrada/Documents/Game/band_catalogues/M0416_g_2hband64_gal.cat',\n",
    "    'catalog_i_2' :'/users/nestrada/Documents/Game/band_catalogues/M0416_i_2band64_gal.cat',\n",
    "    'catalog_i_2h':'/users/nestrada/Documents/Game/band_catalogues/M0416_i_2hband64_gal.cat',\n",
    "    'catalog_y_2' :'/users/nestrada/Documents/Game/band_catalogues/M0416_y_2band64_gal.cat',\n",
    "    'catalog_y_2h':'/users/nestrada/Documents/Game/band_catalogues/M0416_y_2hband64_gal.cat',\n",
    "    'catalog_j_2' :'/users/nestrada/Documents/Game/band_catalogues/M0416_j_2band64_gal.cat',\n",
    "    'catalog_j_2h':'/users/nestrada/Documents/Game/band_catalogues/M0416_j_2hband64_gal.cat',\n",
    "    'catalog_k_2' :'/users/nestrada/Documents/Game/band_catalogues/M0416_k_2band64_gal.cat',\n",
    "    'catalog_k_2h':'/users/nestrada/Documents/Game/band_catalogues/M0416_k_2hband64_gal.cat',\n",
    "    \n",
    "    'mask_u':'/users/nestrada/Documents/Game/VST_GAME/M0416/mask_0416_u.fits',\n",
    "    'mask_u_2':'/users/nestrada/Documents/Game/VST_GAME/M0416/mask_0416_u.fits',\n",
    "    'mask_u_2h':'/users/nestrada/Documents/Game/VST_GAME/M0416/mask_0416_u.fits',\n",
    "    'mask_g':'/users/nestrada/Documents/Game/VST_GAME/M0416/mask_0416_g.fits',\n",
    "    'mask_g_2':'/users/nestrada/Documents/Game/VST_GAME/M0416/mask_0416_g.fits',\n",
    "    'mask_g_2h':'/users/nestrada/Documents/Game/VST_GAME/M0416/mask_0416_g.fits',\n",
    "    'mask_r':'/users/nestrada/Documents/Game/VST_GAME/M0416/mask_0416_r.fits',\n",
    "    'mask_rh':'/users/nestrada/Documents/Game/VST_GAME/M0416/mask_0416_r.fits',\n",
    "    'mask_i':'/users/nestrada/Documents/Game/VST_GAME/M0416/mask_0416_i.fits',\n",
    "    'mask_i_2':'/users/nestrada/Documents/Game/VST_GAME/M0416/mask_0416_i.fits',\n",
    "    'mask_i_2h':'/users/nestrada/Documents/Game/VST_GAME/M0416/mask_0416_i.fits',\n",
    "    'mask_y':'/users/nestrada/Documents/Game/VST_GAME/M0416/mask_0416_y.fits',\n",
    "    'mask_y_2':'/users/nestrada/Documents/Game/VST_GAME/M0416/mask_0416_y.fits',\n",
    "    'mask_y_2h':'/users/nestrada/Documents/Game/VST_GAME/M0416/mask_0416_y.fits',\n",
    "    'mask_j':'/users/nestrada/Documents/Game/VST_GAME/M0416/mask_0416_j.fits',\n",
    "    'mask_j_2':'/users/nestrada/Documents/Game/VST_GAME/M0416/mask_0416_j.fits',\n",
    "    'mask_j_2h':'/users/nestrada/Documents/Game/VST_GAME/M0416/mask_0416_j.fits',\n",
    "    'mask_k':'/users/nestrada/Documents/Game/VST_GAME/M0416/mask_0416_k.fits',\n",
    "    'mask_k_2':'/users/nestrada/Documents/Game/VST_GAME/M0416/mask_0416_k.fits',\n",
    "    'mask_k_2h':'/users/nestrada/Documents/Game/VST_GAME/M0416/mask_0416_k.fits'\n",
    "}"
   ]
  },
  {
   "cell_type": "markdown",
   "metadata": {},
   "source": [
    "# Flagging sources"
   ]
  },
  {
   "cell_type": "code",
   "execution_count": null,
   "metadata": {},
   "outputs": [],
   "source": [
    "\"\"\"hdulist = fits.open(paths['mask'])\n",
    "hdulist.info()\n",
    "data   = hdulist[0].data\n",
    "w      = wcs.WCS(hdulist[0].header)\n",
    "print()\n",
    "print(w)\"\"\""
   ]
  },
  {
   "cell_type": "markdown",
   "metadata": {},
   "source": [
    "# Generating only a marks catalog"
   ]
  },
  {
   "cell_type": "code",
   "execution_count": null,
   "metadata": {},
   "outputs": [],
   "source": [
    "\"\"\"bands = ['g','r','i','j','k','y']\n",
    "for i in bands:\n",
    "    catalog = np.loadtxt(paths[str('catalog_'+i)]) \n",
    "     \n",
    "    ID = catalog[:,0]\n",
    "    ra = catalog[:,1]\n",
    "    dec = catalog[:,2]\n",
    "\n",
    "    world  = np.vstack((ra, dec)).T\n",
    "\n",
    "    pixcrd = w.wcs_world2pix(world, 0)\n",
    "\n",
    "    x,y = np.hsplit(pixcrd,2)\n",
    "\n",
    "    ix=np.round(x).astype(int)\n",
    "    iy=np.round(y).astype(int)\n",
    "\n",
    "    nelem=len(ra)\n",
    "\n",
    "    extout = np.zeros((nelem), dtype=np.float64)\n",
    "    for j in range(nelem): \n",
    "        extout[j]=data[iy[j],ix[j]]\n",
    "    mask = extout == 1\n",
    "    output = np.column_stack((ID[mask], ra[mask], dec[mask], ix[mask], iy[mask], extout[mask]))\n",
    "\n",
    "    np.savetxt(\"masked_catalog_m0416_\"+i+\".cat\", output, fmt='%i %f %f %i %i %i')\"\"\""
   ]
  },
  {
   "cell_type": "markdown",
   "metadata": {},
   "source": [
    "# Generating complete catalog"
   ]
  },
  {
   "cell_type": "code",
   "execution_count": 4,
   "metadata": {},
   "outputs": [
    {
     "name": "stderr",
     "output_type": "stream",
     "text": [
      "WARNING: FITSFixedWarning: RADECSYS= 'ICRS ' \n",
      "the RADECSYS keyword is deprecated, use RADESYSa. [astropy.wcs.wcs]\n"
     ]
    },
    {
     "name": "stdout",
     "output_type": "stream",
     "text": [
      "(216114, 110)\n",
      "7201.0\n",
      "216114 110\n",
      "u_2  done in  46.35253405570984\n"
     ]
    }
   ],
   "source": [
    "\n",
    "for k in bands:\n",
    "    ta = time.time()\n",
    "    hdulist = fits.open(paths[str('mask_'+k)])\n",
    "    data    = hdulist[0].data\n",
    "    w       = wcs.WCS(hdulist[0].header)\n",
    "\n",
    "    catalog = np.loadtxt(paths[str('catalog_'+k)])  \n",
    "\n",
    "    ID = catalog[:,0]\n",
    "    #catalog[:,0] = catalog[:,0].astype(int)\n",
    "    ra = catalog[:,1]\n",
    "    dec = catalog[:,2]\n",
    "    print(catalog.shape)\n",
    "\n",
    "    world  = np.vstack((ra, dec)).T\n",
    "    pixcrd = w.wcs_world2pix(world, 0)\n",
    "\n",
    "    x,y = np.hsplit(pixcrd,2)\n",
    "\n",
    "    ix=np.round(x).astype(int)\n",
    "    iy=np.round(y).astype(int)\n",
    "\n",
    "    nelem=len(ra)\n",
    "\n",
    "    extout = np.zeros((nelem), dtype=np.float64)\n",
    "    for j in range(nelem): \n",
    "        extout[j]=data[iy[j],ix[j]]\n",
    "    print(extout.sum())\n",
    "    num_points, num_params = catalog.shape\n",
    "    print(num_points,num_params)\n",
    "    \"\"\"with open('/users/nestrada/Documents/Game/band_catalogues/complete_galflag_catalog_m0416_'+str(k)+'.cat','w') as n:\n",
    "        for i in range(num_points):\n",
    "            for j in range(num_params):\n",
    "                if j == 0:\n",
    "                    print(catalog[i,j].astype(int),end=\" \",file=n)\n",
    "                else:\n",
    "                    print(catalog[i,j],end=\" \",file=n)\n",
    "            print(extout[i],file=n)\n",
    "    \"\"\"\n",
    "    tb = time.time()\n",
    "    print(k,' done in ',tb-ta)"
   ]
  },
  {
   "cell_type": "markdown",
   "metadata": {},
   "source": [
    "# Validation plot"
   ]
  },
  {
   "cell_type": "code",
   "execution_count": null,
   "metadata": {},
   "outputs": [],
   "source": [
    "#plt.figure(figsize=(15,15))\n",
    "#plt.scatter(ix[mask],iy[mask],marker='.')"
   ]
  }
 ],
 "metadata": {
  "kernelspec": {
   "display_name": "Python 3",
   "language": "python",
   "name": "python3"
  },
  "language_info": {
   "codemirror_mode": {
    "name": "ipython",
    "version": 3
   },
   "file_extension": ".py",
   "mimetype": "text/x-python",
   "name": "python",
   "nbconvert_exporter": "python",
   "pygments_lexer": "ipython3",
   "version": "3.8.5"
  }
 },
 "nbformat": 4,
 "nbformat_minor": 4
}
